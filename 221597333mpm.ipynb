{
 "cells": [
  {
   "cell_type": "markdown",
   "id": "e4b4f653",
   "metadata": {},
   "source": [
    "## $$实验1 Python和内置函数$$"
   ]
  },
  {
   "cell_type": "markdown",
   "id": "0fc19976",
   "metadata": {},
   "source": [
    "**完整实验文档见教材12章**。交电子版，文档中的学号和姓名要填入，本文档文件名部分的\"学号姓名\"也要改为你的实际数据，前缀\"S01_\"不要改。"
   ]
  },
  {
   "cell_type": "markdown",
   "id": "7d2ff9ed",
   "metadata": {},
   "source": [
    "\n",
    "| | | | | | |\n",
    "|:-|-|:-|-|:-|-|\n",
    "|<font size=4>实验地点:|<font size=4>机房|<font size=4>实验日期:|<font size=4>2024-11-12|<font size=4>学院:|<font size=4>金融与投资学院|\n",
    "|<font size=4>学号:|<font size=4> 221597333 |<font size=4>姓名:|<font size=4> 马培铭  |<font size=4> 课时:  |<font size=4> 2  |\n"
   ]
  },
  {
   "cell_type": "markdown",
   "id": "d10510a4",
   "metadata": {},
   "source": [
    "## 一、实验目的\n",
    "1. 学习Python开发包的下载、安装和IDLE的使用。\n",
    "2. 学习安装Anaconda开发平台，学习使用pip工具。\n",
    "3. 学习IPython开发工具的使用。\n",
    "4. 学习内置函数的使用。\n",
    "\n",
    "+ 实验环境：Python3.11 + Anaconda +Jupyter Notebook"
   ]
  },
  {
   "cell_type": "markdown",
   "id": "9c239da0",
   "metadata": {},
   "source": [
    "## 二、实验内容"
   ]
  },
  {
   "cell_type": "markdown",
   "id": "a76770d0",
   "metadata": {},
   "source": [
    "### 1.命令练习（输入教材此部分\"IDLE的使用\"中的练习命令，可分多个单元格输入)"
   ]
  },
  {
   "cell_type": "code",
   "execution_count": 2,
   "id": "354e2ab4",
   "metadata": {},
   "outputs": [
    {
     "name": "stdout",
     "output_type": "stream",
     "text": [
      "输入x:10\n",
      ">=0\n"
     ]
    }
   ],
   "source": [
    "x = input('输入x:')\n",
    "x = int(x)           # 转换为整数\n",
    "if  x>=0:\n",
    "    print('>=0')\n",
    "else:\n",
    "    print('<0')\n"
   ]
  },
  {
   "cell_type": "code",
   "execution_count": 3,
   "id": "e64dff39",
   "metadata": {},
   "outputs": [
    {
     "name": "stdout",
     "output_type": "stream",
     "text": [
      "10 20\n"
     ]
    }
   ],
   "source": [
    "a = 20\n",
    "b = 10\n",
    "if  a > b:    # 此处必须有冒号\n",
    "    c = a      # 三条下级语句都要缩进，且缩进一致\n",
    "    a = b\n",
    "    b = c\n",
    "print(a, b)\n"
   ]
  },
  {
   "cell_type": "code",
   "execution_count": 4,
   "id": "5678b384",
   "metadata": {},
   "outputs": [
    {
     "name": "stdout",
     "output_type": "stream",
     "text": [
      "10\n"
     ]
    }
   ],
   "source": [
    "# FirstPython.py \u000b",
    "print('Hello, Python!')\n",
    "x = 10\n",
    "print(x)\n"
   ]
  },
  {
   "cell_type": "markdown",
   "id": "0a3aff95",
   "metadata": {},
   "source": [
    "### 3． pip工具"
   ]
  },
  {
   "cell_type": "markdown",
   "id": "bae4bb4b",
   "metadata": {},
   "source": [
    "写出安装 wordcloud , jieba, python-docx包所需的安装命令。"
   ]
  },
  {
   "cell_type": "code",
   "execution_count": 11,
   "id": "3537ef93",
   "metadata": {},
   "outputs": [
    {
     "name": "stdout",
     "output_type": "stream",
     "text": [
      "Requirement already satisfied: wordcloud in c:\\programdata\\anaconda3\\lib\\site-packages (1.9.3)\n",
      "Requirement already satisfied: numpy>=1.6.1 in c:\\programdata\\anaconda3\\lib\\site-packages (from wordcloud) (1.24.3)\n",
      "Requirement already satisfied: pillow in c:\\programdata\\anaconda3\\lib\\site-packages (from wordcloud) (9.4.0)\n",
      "Requirement already satisfied: matplotlib in c:\\programdata\\anaconda3\\lib\\site-packages (from wordcloud) (3.7.2)\n",
      "Requirement already satisfied: contourpy>=1.0.1 in c:\\programdata\\anaconda3\\lib\\site-packages (from matplotlib->wordcloud) (1.0.5)\n",
      "Requirement already satisfied: cycler>=0.10 in c:\\programdata\\anaconda3\\lib\\site-packages (from matplotlib->wordcloud) (0.11.0)\n",
      "Requirement already satisfied: fonttools>=4.22.0 in c:\\programdata\\anaconda3\\lib\\site-packages (from matplotlib->wordcloud) (4.25.0)\n",
      "Requirement already satisfied: kiwisolver>=1.0.1 in c:\\programdata\\anaconda3\\lib\\site-packages (from matplotlib->wordcloud) (1.4.4)\n",
      "Requirement already satisfied: packaging>=20.0 in c:\\programdata\\anaconda3\\lib\\site-packages (from matplotlib->wordcloud) (23.1)\n",
      "Requirement already satisfied: pyparsing<3.1,>=2.3.1 in c:\\programdata\\anaconda3\\lib\\site-packages (from matplotlib->wordcloud) (3.0.9)\n",
      "Requirement already satisfied: python-dateutil>=2.7 in c:\\programdata\\anaconda3\\lib\\site-packages (from matplotlib->wordcloud) (2.8.2)\n",
      "Requirement already satisfied: six>=1.5 in c:\\programdata\\anaconda3\\lib\\site-packages (from python-dateutil>=2.7->matplotlib->wordcloud) (1.16.0)\n"
     ]
    }
   ],
   "source": [
    "# 安装词云库\n",
    "!pip install wordcloud"
   ]
  },
  {
   "cell_type": "code",
   "execution_count": 12,
   "id": "1b0b1021",
   "metadata": {},
   "outputs": [
    {
     "name": "stdout",
     "output_type": "stream",
     "text": [
      "Requirement already satisfied: jieba in c:\\programdata\\anaconda3\\lib\\site-packages (0.42.1)\n"
     ]
    }
   ],
   "source": [
    "# 安装jieba中文分词库\n",
    "!pip install jieba"
   ]
  },
  {
   "cell_type": "code",
   "execution_count": 13,
   "id": "b13930ad",
   "metadata": {},
   "outputs": [
    {
     "name": "stdout",
     "output_type": "stream",
     "text": [
      "Requirement already satisfied: python-docx in c:\\programdata\\anaconda3\\lib\\site-packages (1.1.0)\n",
      "Requirement already satisfied: lxml>=3.1.0 in c:\\programdata\\anaconda3\\lib\\site-packages (from python-docx) (4.9.3)\n",
      "Requirement already satisfied: typing-extensions in c:\\programdata\\anaconda3\\lib\\site-packages (from python-docx) (4.7.1)\n"
     ]
    }
   ],
   "source": [
    "# 安装python-docx包\n",
    "!pip install python-docx"
   ]
  },
  {
   "cell_type": "markdown",
   "id": "2ea2574d",
   "metadata": {},
   "source": [
    "安装jieba后，对下面的字符串s使用jieba进行分词。"
   ]
  },
  {
   "cell_type": "code",
   "execution_count": null,
   "id": "bcf45b8a",
   "metadata": {},
   "outputs": [],
   "source": [
    "s = '我要学习Python编程语言!'\n",
    "# 命令待补充\n"
   ]
  },
  {
   "cell_type": "markdown",
   "id": "05d4b57e",
   "metadata": {},
   "source": [
    "### 5．运算符和表达式"
   ]
  },
  {
   "cell_type": "markdown",
   "id": "a2a3b5e7",
   "metadata": {},
   "source": [
    "写出下列公式的Python表达式。"
   ]
  },
  {
   "cell_type": "markdown",
   "id": "14ef3b59",
   "metadata": {},
   "source": [
    "① $5 + (2 \\times 3)^2$"
   ]
  },
  {
   "cell_type": "code",
   "execution_count": 14,
   "id": "94d07238",
   "metadata": {},
   "outputs": [
    {
     "data": {
      "text/plain": [
       "41"
      ]
     },
     "execution_count": 14,
     "metadata": {},
     "output_type": "execute_result"
    }
   ],
   "source": [
    "5+(2*3)**2"
   ]
  },
  {
   "cell_type": "markdown",
   "id": "b262c61b",
   "metadata": {},
   "source": [
    "② $2a(b + 5)$"
   ]
  },
  {
   "cell_type": "code",
   "execution_count": 15,
   "id": "ab0f62c1",
   "metadata": {},
   "outputs": [
    {
     "data": {
      "text/plain": [
       "32"
      ]
     },
     "execution_count": 15,
     "metadata": {},
     "output_type": "execute_result"
    }
   ],
   "source": [
    "a = 2; b = 3\n",
    "2*a*(b+5)"
   ]
  },
  {
   "cell_type": "markdown",
   "id": "31a60b5c",
   "metadata": {},
   "source": [
    "③ $cos^2(a + b)$"
   ]
  },
  {
   "cell_type": "code",
   "execution_count": 20,
   "id": "d7eb432e",
   "metadata": {},
   "outputs": [
    {
     "data": {
      "text/plain": [
       "0.08046423546177377"
      ]
     },
     "execution_count": 20,
     "metadata": {},
     "output_type": "execute_result"
    }
   ],
   "source": [
    "import math\n",
    "math.cos(a+b)**2"
   ]
  },
  {
   "cell_type": "markdown",
   "id": "9034e2d7",
   "metadata": {},
   "source": [
    "### 6．内置函数的使用"
   ]
  },
  {
   "cell_type": "markdown",
   "id": "eb99c8a1",
   "metadata": {},
   "source": [
    "（1）在IPython命令窗口中实现：输入一个字符串，统计字符串中的字符个数、最大字符、最小字符，将字符串中的所有字母大写、所有字母小写、所有字母大小写互换、每个单词的首字母大写，查找字符串中特定字符（如Python）的位置。"
   ]
  },
  {
   "cell_type": "code",
   "execution_count": null,
   "id": "9599af51",
   "metadata": {},
   "outputs": [],
   "source": [
    "s = input('输入一串字符：')  # 假定输入 'Hi,This is the first Python program'"
   ]
  },
  {
   "cell_type": "code",
   "execution_count": 4,
   "id": "293a7b78",
   "metadata": {},
   "outputs": [],
   "source": [
    "# 统计字符个数\n"
   ]
  },
  {
   "cell_type": "code",
   "execution_count": 5,
   "id": "b71d5af6",
   "metadata": {},
   "outputs": [],
   "source": [
    "# 最大的字符，按ASCII码比较大小\n",
    "          "
   ]
  },
  {
   "cell_type": "code",
   "execution_count": 6,
   "id": "09b0d318",
   "metadata": {},
   "outputs": [],
   "source": [
    "# 最小的字符\n",
    "     "
   ]
  },
  {
   "cell_type": "code",
   "execution_count": 7,
   "id": "72c81780",
   "metadata": {},
   "outputs": [],
   "source": [
    "# 显示'y'和空格符的ASCII码\n",
    "    "
   ]
  },
  {
   "cell_type": "code",
   "execution_count": 8,
   "id": "64caac53",
   "metadata": {},
   "outputs": [],
   "source": [
    "# 所有字母变为大写\n",
    "            "
   ]
  },
  {
   "cell_type": "code",
   "execution_count": 9,
   "id": "2759ecc1",
   "metadata": {},
   "outputs": [],
   "source": [
    "# 所有字母小写\n",
    "       "
   ]
  },
  {
   "cell_type": "code",
   "execution_count": 10,
   "id": "501352c5",
   "metadata": {},
   "outputs": [],
   "source": [
    "# 字母大小写互换\n",
    "     "
   ]
  },
  {
   "cell_type": "code",
   "execution_count": 11,
   "id": "fea90c1d",
   "metadata": {},
   "outputs": [],
   "source": [
    "# 每个单词首字母大写，其他小写\n",
    "          "
   ]
  },
  {
   "cell_type": "code",
   "execution_count": 12,
   "id": "cded32b7",
   "metadata": {},
   "outputs": [],
   "source": [
    "# .find()查找单词Python的位置\n",
    " "
   ]
  },
  {
   "cell_type": "code",
   "execution_count": 13,
   "id": "a46f988a",
   "metadata": {},
   "outputs": [],
   "source": [
    "# .find查找'abc'位置，未找到返回-1\n"
   ]
  },
  {
   "cell_type": "code",
   "execution_count": 14,
   "id": "4ce8a8b0",
   "metadata": {},
   "outputs": [],
   "source": [
    "# .index()查找 'Python'\n"
   ]
  },
  {
   "cell_type": "code",
   "execution_count": 61,
   "id": "657b4836",
   "metadata": {},
   "outputs": [],
   "source": [
    "# .index()查找不到将报错\n",
    "#s.index('abc')   "
   ]
  },
  {
   "cell_type": "markdown",
   "id": "806263bf",
   "metadata": {},
   "source": [
    "（2）在IPython命令窗口中实现：根据圆的半径计算圆的周长和面积并输出。"
   ]
  },
  {
   "cell_type": "code",
   "execution_count": 15,
   "id": "b53c028f",
   "metadata": {},
   "outputs": [],
   "source": [
    "import math           # 导入math模块\n",
    "r = 2.5               # 半径\n",
    "# 待补充\n"
   ]
  },
  {
   "cell_type": "markdown",
   "id": "312dc63e",
   "metadata": {},
   "source": [
    "（3）编写程序，输入三角形的三条边，根据三边计算三角形的面积。"
   ]
  },
  {
   "cell_type": "code",
   "execution_count": null,
   "id": "a697c779",
   "metadata": {},
   "outputs": [],
   "source": []
  },
  {
   "cell_type": "markdown",
   "id": "422a1a4a",
   "metadata": {},
   "source": [
    "## 三、实验总结(由学生填写)\n",
    "写出实验小结，讨论实验中所遇的问题及可能的解释和处理方法，也可对实验改进提出建议，简述自己做实验的心得体会等。\n"
   ]
  },
  {
   "cell_type": "code",
   "execution_count": null,
   "id": "d409dd40",
   "metadata": {},
   "outputs": [],
   "source": []
  },
  {
   "cell_type": "markdown",
   "id": "8d038a1e",
   "metadata": {},
   "source": [
    "## 四、教师评语(由教师填写)\n",
    "+ A、完成所有规定的实验内容，实验步骤正确，结果正确。实验总结良好，言之有物。\n",
    "+ B、完成大部分规定的实验内容，实验步骤正确，结果基本正确。实验总结基本可行。\n",
    "+ C、完成大部分规定的实验内容，实验步骤正确，结果基本正确，但无实验总结。\n",
    "+ D、只完成一部分规定的实验内容，仅部分结果正确，无实验总结。\n",
    "+ E、大部分规定的实验内容均未完成。\n"
   ]
  },
  {
   "cell_type": "markdown",
   "id": "7245677e",
   "metadata": {},
   "source": [
    "实验报告等级: <font size=5>A </font> <br/>\n",
    "教师：XXX"
   ]
  },
  {
   "cell_type": "code",
   "execution_count": null,
   "id": "8adb3952",
   "metadata": {},
   "outputs": [],
   "source": []
  },
  {
   "cell_type": "markdown",
   "id": "7c20fb33",
   "metadata": {},
   "source": [
    "## $$实验2  Python语言基础练习$$"
   ]
  },
  {
   "cell_type": "markdown",
   "id": "62eaa667",
   "metadata": {},
   "source": [
    "\n",
    "| | | | | | |\n",
    "|:-|-|:-|-|:-|-|\n",
    "|<font size=4>实验地点:|<font size=4>机房|<font size=4>实验日期:|<font size=4>2024-11-11|<font size=4>学院:|<font size=4>金融与投资学院|\n"
   ]
  },
  {
   "cell_type": "markdown",
   "id": "d46cbb48",
   "metadata": {},
   "source": [
    "## 一、实验目的\n",
    "1. 了解基本数据类型和运算符。\n",
    "2. 掌握字符串格式化方法。\n",
    "3. 练习input和print语句。\n",
    "4. 了解math库。\n",
    "\n",
    "+ 实验环境：Python3.11 + Anaconda +Jupyter Notebook"
   ]
  },
  {
   "cell_type": "markdown",
   "id": "67b437b4",
   "metadata": {},
   "source": [
    "## 二、实验内容"
   ]
  },
  {
   "cell_type": "markdown",
   "id": "0ec8b8a5",
   "metadata": {},
   "source": [
    "### 1．创建整数、浮点数、复数、字符串和布尔类型的变量，并用type函数测试数据类型。"
   ]
  },
  {
   "cell_type": "code",
   "execution_count": null,
   "id": "29383273",
   "metadata": {},
   "outputs": [],
   "source": []
  },
  {
   "cell_type": "markdown",
   "id": "a433ddcc",
   "metadata": {},
   "source": [
    "### 2．有如下成绩列表，统计不及格的人数。"
   ]
  },
  {
   "cell_type": "code",
   "execution_count": 1,
   "id": "d68bcf73",
   "metadata": {},
   "outputs": [],
   "source": [
    "score = [90, 60, 50, 45, 89,78]\n"
   ]
  },
  {
   "cell_type": "markdown",
   "id": "de7eb56d",
   "metadata": {},
   "source": [
    "### 3．将pi值分别按0，2，4位小数输出，要求用format和f两种格式化方法。"
   ]
  },
  {
   "cell_type": "code",
   "execution_count": 2,
   "id": "df900e76",
   "metadata": {},
   "outputs": [],
   "source": [
    "# 按format方法格式化\n",
    "pi = 3.1415926\n"
   ]
  },
  {
   "cell_type": "code",
   "execution_count": 3,
   "id": "0d6d92a8",
   "metadata": {},
   "outputs": [],
   "source": [
    "# 按f-string方法格式化\n"
   ]
  },
  {
   "cell_type": "markdown",
   "id": "d8da1571",
   "metadata": {},
   "source": [
    "### 4．使用f格式化方法，把100分别按二、八、十六进制格式输出。"
   ]
  },
  {
   "cell_type": "code",
   "execution_count": 4,
   "id": "988c1856",
   "metadata": {},
   "outputs": [],
   "source": [
    "x = 100\n"
   ]
  },
  {
   "cell_type": "markdown",
   "id": "a9d06db1",
   "metadata": {},
   "source": [
    "### 5．查看python的版本号，numpy软件包的版本号，python关键字等信息。"
   ]
  },
  {
   "cell_type": "code",
   "execution_count": 7,
   "id": "59f1e06e",
   "metadata": {},
   "outputs": [],
   "source": [
    "import sys\n",
    "# 显示ython版本号\n"
   ]
  },
  {
   "cell_type": "code",
   "execution_count": 8,
   "id": "ffcc8616",
   "metadata": {},
   "outputs": [],
   "source": [
    "import numpy\n",
    "# 显示numpy版本号，包都支持\"包名.__version__\"的格式，前后均是两条下画线\n",
    "   "
   ]
  },
  {
   "cell_type": "code",
   "execution_count": 9,
   "id": "36c36505",
   "metadata": {},
   "outputs": [],
   "source": [
    "# 显示所有的关键字\n",
    " "
   ]
  },
  {
   "cell_type": "markdown",
   "id": "efd0e6c9",
   "metadata": {},
   "source": [
    "### 6．Python的赋值语句比较灵活，练习下面的赋值语句。"
   ]
  },
  {
   "cell_type": "markdown",
   "id": "48aa2841",
   "metadata": {},
   "source": [
    "<font color='blue'>实验报告中未给出具体数据和要求的题目，请输入教材上的相应实验部分的语句做练习。</font>"
   ]
  },
  {
   "cell_type": "code",
   "execution_count": 14,
   "id": "c7db7575",
   "metadata": {},
   "outputs": [],
   "source": [
    "# 对照教材上的实验2第6点输入各种赋值语句， 可分多个单元格\n"
   ]
  },
  {
   "cell_type": "code",
   "execution_count": null,
   "id": "a06a49b1",
   "metadata": {},
   "outputs": [],
   "source": []
  },
  {
   "cell_type": "markdown",
   "id": "6748853e",
   "metadata": {},
   "source": [
    "### 7．运算符练习"
   ]
  },
  {
   "cell_type": "markdown",
   "id": "5961afa8",
   "metadata": {},
   "source": [
    "（1）练习:  / 除法，// 整除，%余数，**幂"
   ]
  },
  {
   "cell_type": "code",
   "execution_count": null,
   "id": "85278ae1",
   "metadata": {},
   "outputs": [],
   "source": []
  },
  {
   "cell_type": "markdown",
   "id": "5727eaf3",
   "metadata": {},
   "source": [
    "（2）假定x=3。用and、or、not 等关系运算符写出相应的逻辑运算式：判断x在[1,10]之间；判断 x小于4或x大于10；判断x不大于10。"
   ]
  },
  {
   "cell_type": "code",
   "execution_count": 11,
   "id": "d9517f02",
   "metadata": {},
   "outputs": [],
   "source": [
    "x = 3\n",
    "# 判断x在[1,10]之间\n"
   ]
  },
  {
   "cell_type": "code",
   "execution_count": 12,
   "id": "16860cdd",
   "metadata": {},
   "outputs": [],
   "source": [
    "# 判断 x小于4或x大于10\n"
   ]
  },
  {
   "cell_type": "code",
   "execution_count": 13,
   "id": "770338bb",
   "metadata": {},
   "outputs": [],
   "source": [
    "# 判断x不大于10\n"
   ]
  },
  {
   "cell_type": "markdown",
   "id": "efa716e1",
   "metadata": {},
   "source": [
    "（3）成员运算符in练习。"
   ]
  },
  {
   "cell_type": "code",
   "execution_count": null,
   "id": "c3331813",
   "metadata": {},
   "outputs": [],
   "source": []
  },
  {
   "cell_type": "markdown",
   "id": "390a0ff4",
   "metadata": {},
   "source": [
    "（4）身份运算符is练习。"
   ]
  },
  {
   "cell_type": "code",
   "execution_count": null,
   "id": "98595f34",
   "metadata": {},
   "outputs": [],
   "source": []
  },
  {
   "cell_type": "markdown",
   "id": "73df6028",
   "metadata": {},
   "source": [
    "### 8．数据类型转换。"
   ]
  },
  {
   "cell_type": "code",
   "execution_count": null,
   "id": "cfde71b9",
   "metadata": {},
   "outputs": [],
   "source": [
    "s = '12'\n"
   ]
  },
  {
   "cell_type": "code",
   "execution_count": 15,
   "id": "fe66c9b4",
   "metadata": {},
   "outputs": [],
   "source": [
    "s = '1,2,3'\n"
   ]
  },
  {
   "cell_type": "code",
   "execution_count": 16,
   "id": "b65421b2",
   "metadata": {},
   "outputs": [],
   "source": [
    "lst = [0, '12', [], '', 4.5, True]\n"
   ]
  },
  {
   "cell_type": "markdown",
   "id": "b90bd8d8",
   "metadata": {},
   "source": [
    "### 9．输入输出练习。  \n",
    "\n",
    "(1)输入两个整数，求和并输出结果。"
   ]
  },
  {
   "cell_type": "code",
   "execution_count": null,
   "id": "aacd2784",
   "metadata": {},
   "outputs": [],
   "source": []
  },
  {
   "cell_type": "markdown",
   "id": "ca2ecbd2",
   "metadata": {},
   "source": [
    "(2)输出1-20的数据，每5个数一行，数据之间用制表键\\t分隔，共分4行。"
   ]
  },
  {
   "cell_type": "code",
   "execution_count": null,
   "id": "c471fe6d",
   "metadata": {},
   "outputs": [],
   "source": []
  },
  {
   "cell_type": "markdown",
   "id": "8db8b0c9",
   "metadata": {},
   "source": [
    "### 10．字符串练习"
   ]
  },
  {
   "cell_type": "markdown",
   "id": "1d8a042a",
   "metadata": {},
   "source": [
    "(1)输出9行\\*号，每行\\*号的个数均为 (2\\*行号-1)，居中对齐(可用字符串的center方法)。"
   ]
  },
  {
   "cell_type": "code",
   "execution_count": null,
   "id": "18be67ee",
   "metadata": {},
   "outputs": [],
   "source": []
  },
  {
   "cell_type": "markdown",
   "id": "232322a0",
   "metadata": {},
   "source": [
    "(2)判断列表中的文件名是否是常见的图片类文件，如是则输出文件名。"
   ]
  },
  {
   "cell_type": "code",
   "execution_count": 17,
   "id": "1a3ba63b",
   "metadata": {},
   "outputs": [],
   "source": [
    "fnames = ['a.jpg', 'b.bmp', 'c.JPEG', 'a1.txt', 'a2.docx', 'd.PNG']\n",
    "imgext = ('.jpg','.jpeg','.png','.bmp')\n",
    "# 待补充\n"
   ]
  },
  {
   "cell_type": "markdown",
   "id": "be8dcd03",
   "metadata": {},
   "source": [
    "(3)输出字符'0'-'9'、'a'-'z'、 'A'-'Z'的十六进制ASCII码。"
   ]
  },
  {
   "cell_type": "code",
   "execution_count": 18,
   "id": "86efdb77",
   "metadata": {},
   "outputs": [],
   "source": [
    "import string\n"
   ]
  },
  {
   "cell_type": "markdown",
   "id": "62f45a80",
   "metadata": {},
   "source": [
    "(4)将下面的字符串s变为'AA+BB+CC+DD'。"
   ]
  },
  {
   "cell_type": "code",
   "execution_count": 19,
   "id": "a2d995e8",
   "metadata": {},
   "outputs": [],
   "source": [
    "s = 'AA\\t  BB   CC \\t DD\\n'\n",
    "\n"
   ]
  },
  {
   "cell_type": "markdown",
   "id": "8c3c626a",
   "metadata": {},
   "source": [
    "### 11．字符串拆分并转换数据。"
   ]
  },
  {
   "cell_type": "code",
   "execution_count": 20,
   "id": "a2d0684d",
   "metadata": {},
   "outputs": [],
   "source": [
    "line = '90, 98, 100, 60,  75\\n'  # \\n 换行符\n",
    "# split(',') 指定以逗号为分隔符拆分字符串，得到由小字符串构成的列表\n"
   ]
  },
  {
   "cell_type": "code",
   "execution_count": 21,
   "id": "39a51ac2",
   "metadata": {},
   "outputs": [],
   "source": [
    "# 上述步骤可合并如下：\n"
   ]
  },
  {
   "cell_type": "markdown",
   "id": "45c76b79",
   "metadata": {},
   "source": [
    "### 12．math库练习。导入math库，练习其中的函数"
   ]
  },
  {
   "cell_type": "code",
   "execution_count": 22,
   "id": "f6100c72",
   "metadata": {},
   "outputs": [],
   "source": [
    "import math\n",
    "dir(math)"
   ]
  },
  {
   "cell_type": "code",
   "execution_count": null,
   "id": "3d9b5456",
   "metadata": {},
   "outputs": [],
   "source": [
    "# 输出常量 pi 和 e\n"
   ]
  },
  {
   "cell_type": "code",
   "execution_count": null,
   "id": "c48e0528",
   "metadata": {},
   "outputs": [],
   "source": [
    "# 10开根号\n"
   ]
  },
  {
   "cell_type": "code",
   "execution_count": 23,
   "id": "6afde508",
   "metadata": {},
   "outputs": [],
   "source": [
    "# 6.8向下舍入， 6.1向上舍入取整\n"
   ]
  },
  {
   "cell_type": "code",
   "execution_count": 24,
   "id": "5e3014b8",
   "metadata": {},
   "outputs": [],
   "source": [
    "# 输出e的自然对数, 10的以2为底的对数, 10的以10为底的常用对数\n"
   ]
  },
  {
   "cell_type": "code",
   "execution_count": null,
   "id": "a64f8cd4",
   "metadata": {},
   "outputs": [],
   "source": [
    "# 将角度30转为弧度，结果存在 rad 变量\n",
    "          "
   ]
  },
  {
   "cell_type": "code",
   "execution_count": 27,
   "id": "05f70417",
   "metadata": {},
   "outputs": [],
   "source": [
    "# 将上题的rad 弧度又转为角度\n",
    "    "
   ]
  },
  {
   "cell_type": "code",
   "execution_count": 28,
   "id": "6c7cafc2",
   "metadata": {},
   "outputs": [],
   "source": [
    "# 计算 rad 的正弦，保留2位小数，结果存于变量x\n"
   ]
  },
  {
   "cell_type": "code",
   "execution_count": null,
   "id": "a02300d9",
   "metadata": {},
   "outputs": [],
   "source": [
    "# 对上题的 x 求反正弦\n"
   ]
  },
  {
   "cell_type": "code",
   "execution_count": 25,
   "id": "c5b14d1a",
   "metadata": {},
   "outputs": [],
   "source": [
    "# 计算输出[30,60,90]度角的正弦值，输出时取2位小数                  \n",
    "\n"
   ]
  },
  {
   "cell_type": "code",
   "execution_count": 26,
   "id": "0c94ba68",
   "metadata": {},
   "outputs": [],
   "source": [
    "from math import factorial as jc   # 引入阶乘函数\n",
    "# 计算 4 和 8 的阶乘\n"
   ]
  },
  {
   "cell_type": "markdown",
   "id": "efe5bc32",
   "metadata": {},
   "source": [
    "## 三、实验总结(由学生填写)\n",
    "写出实验结论，讨论实验中所遇的问题及可能的解释和处理方法，也可对实验的改进提出建议，简述自己做实验的心得体会等。\n"
   ]
  },
  {
   "cell_type": "code",
   "execution_count": null,
   "id": "3cded9b9",
   "metadata": {},
   "outputs": [],
   "source": []
  },
  {
   "cell_type": "markdown",
   "id": "f8265d0b",
   "metadata": {},
   "source": [
    "## 四、教师评语(由教师填写)\n",
    "+ A、完成所有规定的实验内容，实验步骤正确，结果正确。实验总结良好，言之有物。\n",
    "+ B、完成大部分规定的实验内容，实验步骤正确，结果基本正确。实验总结基本可行。\n",
    "+ C、完成大部分规定的实验内容，实验步骤正确，结果基本正确，但无实验总结。\n",
    "+ D、只完成一部分规定的实验内容，仅部分结果正确，无实验总结。\n",
    "+ E、大部分规定的实验内容均未完成。\n"
   ]
  },
  {
   "cell_type": "markdown",
   "id": "1fc053fc",
   "metadata": {},
   "source": [
    "实验报告等级: <font size=5>A </font> <br/>\n",
    "教师：XXX"
   ]
  },
  {
   "cell_type": "code",
   "execution_count": null,
   "id": "a77cb04e",
   "metadata": {},
   "outputs": [],
   "source": []
  },
  {
   "cell_type": "markdown",
   "id": "34e14ef3",
   "metadata": {},
   "source": [
    "## $$ 实验3  容器数据类型及若干库练习$$"
   ]
  },
  {
   "cell_type": "markdown",
   "id": "d2706499",
   "metadata": {},
   "source": [
    "\n",
    "| | | | | | |\n",
    "|:-|-|:-|-|:-|-|\n",
    "|<font size=4>实验地点:|<font size=4>机房|<font size=4>实验日期:|<font size=4>2024-11-11|<font size=4>学院:|<font size=4>金融与投资学院|\n"
   ]
  },
  {
   "cell_type": "markdown",
   "id": "5aea7c0d",
   "metadata": {},
   "source": [
    "## 一、实验目的\n",
    "1. 了解列表、元组、字典和集合的概念。\n",
    "2. 学习列表、元组、字典和集合对象的创建。\n",
    "3. 学习列表、元组、字典和集合函数的使用。\n",
    "4. 学习time、 datetime、 random库的使用。\n",
    "\n",
    "+ 实验环境：Python3.11 + Anaconda +Jupyter Notebook"
   ]
  },
  {
   "cell_type": "markdown",
   "id": "08cb02ed",
   "metadata": {},
   "source": [
    "## 二、实验内容"
   ]
  },
  {
   "cell_type": "markdown",
   "id": "c3a0d5df",
   "metadata": {},
   "source": [
    "### 2 列表的使用:假设有一个列表 ['C', 80, 'Java' , 80, 'Python' , 85]，分别进行下面的操作："
   ]
  },
  {
   "cell_type": "code",
   "execution_count": 1,
   "id": "72a6a77a",
   "metadata": {},
   "outputs": [],
   "source": [
    "lst = ['C', 80, 'Java', 80, 'Python', 85]"
   ]
  },
  {
   "cell_type": "code",
   "execution_count": 2,
   "id": "2546b3fa",
   "metadata": {},
   "outputs": [],
   "source": [
    "# (1)取第2个元素\n",
    "        "
   ]
  },
  {
   "cell_type": "code",
   "execution_count": 3,
   "id": "6f874496",
   "metadata": {},
   "outputs": [],
   "source": [
    "# (2)计算列表的长度\n",
    "       "
   ]
  },
  {
   "cell_type": "code",
   "execution_count": 4,
   "id": "2466f682",
   "metadata": {},
   "outputs": [],
   "source": [
    "# (3)统计值为80的元素个数\n",
    " "
   ]
  },
  {
   "cell_type": "code",
   "execution_count": 5,
   "id": "adb8c50b",
   "metadata": {},
   "outputs": [],
   "source": [
    "# (4)修改第3个元素的值为85\n"
   ]
  },
  {
   "cell_type": "code",
   "execution_count": 6,
   "id": "87a242e4",
   "metadata": {},
   "outputs": [],
   "source": [
    "# (5)在第1个位置插入’C++’\n"
   ]
  },
  {
   "cell_type": "code",
   "execution_count": 7,
   "id": "8080e122",
   "metadata": {},
   "outputs": [],
   "source": [
    "# (6) 删除（5）中插入的元素\n"
   ]
  },
  {
   "cell_type": "code",
   "execution_count": 8,
   "id": "d94fe19a",
   "metadata": {},
   "outputs": [],
   "source": [
    "# (7)在列表后面添加’C++’和90两个元素\n"
   ]
  },
  {
   "cell_type": "code",
   "execution_count": 9,
   "id": "82ac0758",
   "metadata": {},
   "outputs": [],
   "source": [
    "# (8)颠倒列表元素的顺序\n"
   ]
  },
  {
   "cell_type": "markdown",
   "id": "d7844eac",
   "metadata": {},
   "source": [
    "### 3．列表切片练习。"
   ]
  },
  {
   "cell_type": "code",
   "execution_count": 10,
   "id": "deb0d52b",
   "metadata": {},
   "outputs": [],
   "source": [
    "lst = [1, 2, 3, 4, 5, 6, 7, 8, 9]  "
   ]
  },
  {
   "cell_type": "code",
   "execution_count": 11,
   "id": "428fec98",
   "metadata": {},
   "outputs": [],
   "source": [
    "# (1)取前3个元素\n",
    "                         "
   ]
  },
  {
   "cell_type": "code",
   "execution_count": 12,
   "id": "5e6144a3",
   "metadata": {},
   "outputs": [],
   "source": [
    "# (2)从索引2开始，连续取3个元素\n",
    "                        "
   ]
  },
  {
   "cell_type": "code",
   "execution_count": 13,
   "id": "dbb44e29",
   "metadata": {},
   "outputs": [],
   "source": [
    "# (3)取索引为奇数的元素\n",
    "                      "
   ]
  },
  {
   "cell_type": "code",
   "execution_count": 14,
   "id": "7e9995f5",
   "metadata": {},
   "outputs": [],
   "source": [
    "# (4)取最右侧的4个元素\n",
    "                       "
   ]
  },
  {
   "cell_type": "markdown",
   "id": "16c88f07",
   "metadata": {},
   "source": [
    "### 4．统计列表lst = [12,2,16,30,28,10,16,20,6,18]中元素的个数，找出最大值和最小值，计算平均值，并将lst列表按从大到小排序输出。"
   ]
  },
  {
   "cell_type": "code",
   "execution_count": 15,
   "id": "c7dfb1a1",
   "metadata": {},
   "outputs": [],
   "source": [
    "lst = [12, 2, 16, 30, 28, 10, 16, 20, 6, 18]"
   ]
  },
  {
   "cell_type": "code",
   "execution_count": 16,
   "id": "27759ce9",
   "metadata": {},
   "outputs": [],
   "source": [
    "# 元素个数\n"
   ]
  },
  {
   "cell_type": "code",
   "execution_count": 17,
   "id": "6c291f9f",
   "metadata": {},
   "outputs": [],
   "source": [
    "# 最大值\n"
   ]
  },
  {
   "cell_type": "code",
   "execution_count": 18,
   "id": "f4c98d46",
   "metadata": {},
   "outputs": [],
   "source": [
    "# 最小值\n"
   ]
  },
  {
   "cell_type": "code",
   "execution_count": 19,
   "id": "169edbd7",
   "metadata": {},
   "outputs": [],
   "source": [
    "# 计算平均值\n"
   ]
  },
  {
   "cell_type": "code",
   "execution_count": 20,
   "id": "44a221fd",
   "metadata": {},
   "outputs": [],
   "source": [
    "# 列表按从大到小排序输出\n"
   ]
  },
  {
   "cell_type": "markdown",
   "id": "8b99b339",
   "metadata": {},
   "source": [
    "### 5．字典练习。"
   ]
  },
  {
   "cell_type": "markdown",
   "id": "4eb58258",
   "metadata": {},
   "source": [
    "（1）字典保存了如下用户姓名和对应密码，输出所有用户姓名，并找出某个用户的密码。"
   ]
  },
  {
   "cell_type": "code",
   "execution_count": 21,
   "id": "22015f73",
   "metadata": {},
   "outputs": [],
   "source": [
    "password = {'张三': '123456', '李四': 'abcdef', '王五': '123abc', '刘六': 'aaa111'}"
   ]
  },
  {
   "cell_type": "code",
   "execution_count": 23,
   "id": "d08ae84e",
   "metadata": {},
   "outputs": [],
   "source": [
    "# 输出所有用户姓名\n"
   ]
  },
  {
   "cell_type": "code",
   "execution_count": 24,
   "id": "92fe41e5",
   "metadata": {},
   "outputs": [],
   "source": [
    "# 输出\"李四\"的密码\n"
   ]
  },
  {
   "cell_type": "code",
   "execution_count": 25,
   "id": "1fe643cb",
   "metadata": {},
   "outputs": [],
   "source": [
    "# 遍历输出所有的键值对\n"
   ]
  },
  {
   "cell_type": "markdown",
   "id": "65239cc6",
   "metadata": {},
   "source": [
    "（2）用字典存储游戏角色的属性，用随机值修改属性。"
   ]
  },
  {
   "cell_type": "code",
   "execution_count": null,
   "id": "3bfe0af3",
   "metadata": {},
   "outputs": [],
   "source": [
    "\n"
   ]
  },
  {
   "cell_type": "markdown",
   "id": "688b7fbb",
   "metadata": {},
   "source": [
    "### 6．如下元组保存了学生姓名和对应成绩，找出成绩最高分学生的姓名。"
   ]
  },
  {
   "cell_type": "code",
   "execution_count": 26,
   "id": "c846812b",
   "metadata": {},
   "outputs": [],
   "source": [
    "student = ('张三', '李四', '王五', '刘六')\n",
    "score = (75, 62, 93, 81)\n",
    "\n",
    "# 找出成绩最高分学生的姓名\n"
   ]
  },
  {
   "cell_type": "markdown",
   "id": "68fd677c",
   "metadata": {},
   "source": [
    "### 7．输入一串字符，统计单词个数（假设所有单词以空格分隔）。"
   ]
  },
  {
   "cell_type": "code",
   "execution_count": 27,
   "id": "de79104d",
   "metadata": {},
   "outputs": [],
   "source": [
    "s = input('输入一串字符：')   # this is a Python  program\n",
    "\n",
    "# 待补充\n"
   ]
  },
  {
   "cell_type": "markdown",
   "id": "326b7a43",
   "metadata": {},
   "source": [
    "### 8．合并列表lst1 = [3,7,44,78,6]和lst2 = [35,8,59,3,47,6]中的元素，并将重复元素去除。"
   ]
  },
  {
   "cell_type": "code",
   "execution_count": 28,
   "id": "7243aab5",
   "metadata": {},
   "outputs": [],
   "source": [
    "lst1 = [3, 7, 44, 78, 6]\n",
    "lst2 = [35, 8, 59, 3, 47, 6]\n",
    "\n",
    "# 待补充\n"
   ]
  },
  {
   "cell_type": "markdown",
   "id": "64f3dfe4",
   "metadata": {},
   "source": [
    "### 9．time库练习。  \n",
    "\n",
    "(1)测试将含有1百万个数的列表中的数均变为原来的2倍所需的耗时，要求测试5次取平均耗时。"
   ]
  },
  {
   "cell_type": "code",
   "execution_count": 29,
   "id": "c32773e9",
   "metadata": {},
   "outputs": [],
   "source": [
    "import time\n",
    "lst = list(range(1000000))\n",
    "\n",
    "# 待补充\n"
   ]
  },
  {
   "cell_type": "markdown",
   "id": "1cc36669",
   "metadata": {},
   "source": [
    "(2)今天是本年的第几天？"
   ]
  },
  {
   "cell_type": "code",
   "execution_count": null,
   "id": "bd83ab55",
   "metadata": {},
   "outputs": [],
   "source": []
  },
  {
   "cell_type": "markdown",
   "id": "4fdad72c",
   "metadata": {},
   "source": [
    "(3)利用time.sleep模拟程序运行一段时间。"
   ]
  },
  {
   "cell_type": "code",
   "execution_count": 30,
   "id": "eca85dc1",
   "metadata": {},
   "outputs": [],
   "source": [
    "import time\n"
   ]
  },
  {
   "cell_type": "markdown",
   "id": "df7ad48f",
   "metadata": {},
   "source": [
    "### 10．datetime库练习。  \n",
    "\n",
    "(1)输入你的出生日期，判断是星期几？"
   ]
  },
  {
   "cell_type": "code",
   "execution_count": 33,
   "id": "3cb0f507",
   "metadata": {},
   "outputs": [],
   "source": [
    "from datetime import datetime\n",
    "s = input('输入你的出生日期: 年-月-日')    # '2005-5-1'\n",
    "# 待补充\n"
   ]
  },
  {
   "cell_type": "markdown",
   "id": "6a606ae0",
   "metadata": {},
   "source": [
    "(2)你出生到现在一共过了多少天了？"
   ]
  },
  {
   "cell_type": "code",
   "execution_count": null,
   "id": "6b050e96",
   "metadata": {},
   "outputs": [],
   "source": []
  },
  {
   "cell_type": "markdown",
   "id": "1a27615f",
   "metadata": {},
   "source": [
    "(3)将你的生日变量birth分别按“年-月-日”和 “月/日/年”的格式输出。"
   ]
  },
  {
   "cell_type": "code",
   "execution_count": null,
   "id": "2fd78594",
   "metadata": {},
   "outputs": [],
   "source": []
  },
  {
   "cell_type": "markdown",
   "id": "c45a97d8",
   "metadata": {},
   "source": [
    "### 11．random随机库练习。  \n",
    "\n",
    "(1) 设定随机种子为7"
   ]
  },
  {
   "cell_type": "code",
   "execution_count": 34,
   "id": "ec933ca1",
   "metadata": {},
   "outputs": [],
   "source": [
    "import random\n",
    "# 设定固定的种子，后续产生同样的随机数序列\n"
   ]
  },
  {
   "cell_type": "markdown",
   "id": "1f31c705",
   "metadata": {},
   "source": [
    "(2)产生含有[1,30]之间的80个随机整数的列表lst"
   ]
  },
  {
   "cell_type": "code",
   "execution_count": null,
   "id": "c8f859af",
   "metadata": {},
   "outputs": [],
   "source": []
  },
  {
   "cell_type": "markdown",
   "id": "f5f46531",
   "metadata": {},
   "source": [
    "(3)[1,30]之间哪些数没有出现在lst中"
   ]
  },
  {
   "cell_type": "code",
   "execution_count": null,
   "id": "5a27a61d",
   "metadata": {},
   "outputs": [],
   "source": []
  },
  {
   "cell_type": "markdown",
   "id": "03f2e83f",
   "metadata": {},
   "source": [
    "(4)产生含有1-54的整数有序列表card，然后分别用random.choice和random.sample从中随机抽取5个数。"
   ]
  },
  {
   "cell_type": "code",
   "execution_count": 35,
   "id": "27fe0355",
   "metadata": {},
   "outputs": [],
   "source": [
    "\n",
    "# 用random.choice 抽取\n"
   ]
  },
  {
   "cell_type": "code",
   "execution_count": 36,
   "id": "6275554c",
   "metadata": {},
   "outputs": [],
   "source": [
    "# 用 random.sample 抽取\n"
   ]
  },
  {
   "cell_type": "markdown",
   "id": "0465751c",
   "metadata": {},
   "source": [
    "(5)对上面的有序列表card进行乱序( random.shuffle)"
   ]
  },
  {
   "cell_type": "code",
   "execution_count": null,
   "id": "36f7a5c5",
   "metadata": {},
   "outputs": [],
   "source": []
  },
  {
   "cell_type": "markdown",
   "id": "1f5ff7df",
   "metadata": {},
   "source": [
    "## 三、实验总结(由学生填写)\n",
    "写出实验结论，讨论实验中所遇的问题及可能的解释和处理方法，也可对实验的改进提出建议，简述自己做实验的心得体会等。\n"
   ]
  },
  {
   "cell_type": "code",
   "execution_count": null,
   "id": "1d57616f",
   "metadata": {},
   "outputs": [],
   "source": []
  },
  {
   "cell_type": "markdown",
   "id": "23969e01",
   "metadata": {},
   "source": [
    "## 四、教师评语(由教师填写)\n",
    "+ A、完成所有规定的实验内容，实验步骤正确，结果正确。实验总结良好，言之有物。\n",
    "+ B、完成大部分规定的实验内容，实验步骤正确，结果基本正确。实验总结基本可行。\n",
    "+ C、完成大部分规定的实验内容，实验步骤正确，结果基本正确，但无实验总结。\n",
    "+ D、只完成一部分规定的实验内容，仅部分结果正确，无实验总结。\n",
    "+ E、大部分规定的实验内容均未完成。\n"
   ]
  },
  {
   "cell_type": "markdown",
   "id": "33cb8482",
   "metadata": {},
   "source": [
    "实验报告等级: <font size=5>A </font> <br/>\n",
    "教师：XXX"
   ]
  },
  {
   "cell_type": "code",
   "execution_count": null,
   "id": "d7b30028",
   "metadata": {},
   "outputs": [],
   "source": []
  }
 ],
 "metadata": {
  "kernelspec": {
   "display_name": "Python 3 (ipykernel)",
   "language": "python",
   "name": "python3"
  },
  "language_info": {
   "codemirror_mode": {
    "name": "ipython",
    "version": 3
   },
   "file_extension": ".py",
   "mimetype": "text/x-python",
   "name": "python",
   "nbconvert_exporter": "python",
   "pygments_lexer": "ipython3",
   "version": "3.11.5"
  }
 },
 "nbformat": 4,
 "nbformat_minor": 5
}
